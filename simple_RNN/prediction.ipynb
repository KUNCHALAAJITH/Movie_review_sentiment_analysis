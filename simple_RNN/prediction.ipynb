{
 "cells": [
  {
   "cell_type": "code",
   "execution_count": 1,
   "metadata": {},
   "outputs": [],
   "source": [
    "import numpy as np\n",
    "import tensorflow as tf\n",
    "from tensorflow.keras.datasets import imdb\n",
    "from tensorflow.keras.preprocessing import sequence\n",
    "from tensorflow.keras.models import load_model"
   ]
  },
  {
   "cell_type": "code",
   "execution_count": 2,
   "metadata": {},
   "outputs": [],
   "source": [
    "###Mapping of word index back to words (for our understanding)\n",
    "\n",
    "word_index=imdb.get_word_index()\n",
    "# word_index\n",
    "reverse_word_index={value:key for key, value in word_index.items()}\n"
   ]
  },
  {
   "cell_type": "code",
   "execution_count": 3,
   "metadata": {},
   "outputs": [
    {
     "name": "stderr",
     "output_type": "stream",
     "text": [
      "WARNING:absl:Compiled the loaded model, but the compiled metrics have yet to be built. `model.compile_metrics` will be empty until you train or evaluate the model.\n"
     ]
    },
    {
     "data": {
      "text/html": [
       "<pre style=\"white-space:pre;overflow-x:auto;line-height:normal;font-family:Menlo,'DejaVu Sans Mono',consolas,'Courier New',monospace\"><span style=\"font-weight: bold\">Model: \"sequential_11\"</span>\n",
       "</pre>\n"
      ],
      "text/plain": [
       "\u001b[1mModel: \"sequential_11\"\u001b[0m\n"
      ]
     },
     "metadata": {},
     "output_type": "display_data"
    },
    {
     "data": {
      "text/html": [
       "<pre style=\"white-space:pre;overflow-x:auto;line-height:normal;font-family:Menlo,'DejaVu Sans Mono',consolas,'Courier New',monospace\">┏━━━━━━━━━━━━━━━━━━━━━━━━━━━━━━━━━┳━━━━━━━━━━━━━━━━━━━━━━━━┳━━━━━━━━━━━━━━━┓\n",
       "┃<span style=\"font-weight: bold\"> Layer (type)                    </span>┃<span style=\"font-weight: bold\"> Output Shape           </span>┃<span style=\"font-weight: bold\">       Param # </span>┃\n",
       "┡━━━━━━━━━━━━━━━━━━━━━━━━━━━━━━━━━╇━━━━━━━━━━━━━━━━━━━━━━━━╇━━━━━━━━━━━━━━━┩\n",
       "│ embedding_9 (<span style=\"color: #0087ff; text-decoration-color: #0087ff\">Embedding</span>)         │ (<span style=\"color: #00d7ff; text-decoration-color: #00d7ff\">None</span>, <span style=\"color: #00af00; text-decoration-color: #00af00\">500</span>, <span style=\"color: #00af00; text-decoration-color: #00af00\">128</span>)       │     <span style=\"color: #00af00; text-decoration-color: #00af00\">1,280,000</span> │\n",
       "├─────────────────────────────────┼────────────────────────┼───────────────┤\n",
       "│ simple_rnn_8 (<span style=\"color: #0087ff; text-decoration-color: #0087ff\">SimpleRNN</span>)        │ (<span style=\"color: #00d7ff; text-decoration-color: #00d7ff\">None</span>, <span style=\"color: #00af00; text-decoration-color: #00af00\">128</span>)            │        <span style=\"color: #00af00; text-decoration-color: #00af00\">32,896</span> │\n",
       "├─────────────────────────────────┼────────────────────────┼───────────────┤\n",
       "│ dense_8 (<span style=\"color: #0087ff; text-decoration-color: #0087ff\">Dense</span>)                 │ (<span style=\"color: #00d7ff; text-decoration-color: #00d7ff\">None</span>, <span style=\"color: #00af00; text-decoration-color: #00af00\">1</span>)              │           <span style=\"color: #00af00; text-decoration-color: #00af00\">129</span> │\n",
       "└─────────────────────────────────┴────────────────────────┴───────────────┘\n",
       "</pre>\n"
      ],
      "text/plain": [
       "┏━━━━━━━━━━━━━━━━━━━━━━━━━━━━━━━━━┳━━━━━━━━━━━━━━━━━━━━━━━━┳━━━━━━━━━━━━━━━┓\n",
       "┃\u001b[1m \u001b[0m\u001b[1mLayer (type)                   \u001b[0m\u001b[1m \u001b[0m┃\u001b[1m \u001b[0m\u001b[1mOutput Shape          \u001b[0m\u001b[1m \u001b[0m┃\u001b[1m \u001b[0m\u001b[1m      Param #\u001b[0m\u001b[1m \u001b[0m┃\n",
       "┡━━━━━━━━━━━━━━━━━━━━━━━━━━━━━━━━━╇━━━━━━━━━━━━━━━━━━━━━━━━╇━━━━━━━━━━━━━━━┩\n",
       "│ embedding_9 (\u001b[38;5;33mEmbedding\u001b[0m)         │ (\u001b[38;5;45mNone\u001b[0m, \u001b[38;5;34m500\u001b[0m, \u001b[38;5;34m128\u001b[0m)       │     \u001b[38;5;34m1,280,000\u001b[0m │\n",
       "├─────────────────────────────────┼────────────────────────┼───────────────┤\n",
       "│ simple_rnn_8 (\u001b[38;5;33mSimpleRNN\u001b[0m)        │ (\u001b[38;5;45mNone\u001b[0m, \u001b[38;5;34m128\u001b[0m)            │        \u001b[38;5;34m32,896\u001b[0m │\n",
       "├─────────────────────────────────┼────────────────────────┼───────────────┤\n",
       "│ dense_8 (\u001b[38;5;33mDense\u001b[0m)                 │ (\u001b[38;5;45mNone\u001b[0m, \u001b[38;5;34m1\u001b[0m)              │           \u001b[38;5;34m129\u001b[0m │\n",
       "└─────────────────────────────────┴────────────────────────┴───────────────┘\n"
      ]
     },
     "metadata": {},
     "output_type": "display_data"
    },
    {
     "data": {
      "text/html": [
       "<pre style=\"white-space:pre;overflow-x:auto;line-height:normal;font-family:Menlo,'DejaVu Sans Mono',consolas,'Courier New',monospace\"><span style=\"font-weight: bold\"> Total params: </span><span style=\"color: #00af00; text-decoration-color: #00af00\">1,313,027</span> (5.01 MB)\n",
       "</pre>\n"
      ],
      "text/plain": [
       "\u001b[1m Total params: \u001b[0m\u001b[38;5;34m1,313,027\u001b[0m (5.01 MB)\n"
      ]
     },
     "metadata": {},
     "output_type": "display_data"
    },
    {
     "data": {
      "text/html": [
       "<pre style=\"white-space:pre;overflow-x:auto;line-height:normal;font-family:Menlo,'DejaVu Sans Mono',consolas,'Courier New',monospace\"><span style=\"font-weight: bold\"> Trainable params: </span><span style=\"color: #00af00; text-decoration-color: #00af00\">1,313,025</span> (5.01 MB)\n",
       "</pre>\n"
      ],
      "text/plain": [
       "\u001b[1m Trainable params: \u001b[0m\u001b[38;5;34m1,313,025\u001b[0m (5.01 MB)\n"
      ]
     },
     "metadata": {},
     "output_type": "display_data"
    },
    {
     "data": {
      "text/html": [
       "<pre style=\"white-space:pre;overflow-x:auto;line-height:normal;font-family:Menlo,'DejaVu Sans Mono',consolas,'Courier New',monospace\"><span style=\"font-weight: bold\"> Non-trainable params: </span><span style=\"color: #00af00; text-decoration-color: #00af00\">0</span> (0.00 B)\n",
       "</pre>\n"
      ],
      "text/plain": [
       "\u001b[1m Non-trainable params: \u001b[0m\u001b[38;5;34m0\u001b[0m (0.00 B)\n"
      ]
     },
     "metadata": {},
     "output_type": "display_data"
    },
    {
     "data": {
      "text/html": [
       "<pre style=\"white-space:pre;overflow-x:auto;line-height:normal;font-family:Menlo,'DejaVu Sans Mono',consolas,'Courier New',monospace\"><span style=\"font-weight: bold\"> Optimizer params: </span><span style=\"color: #00af00; text-decoration-color: #00af00\">2</span> (12.00 B)\n",
       "</pre>\n"
      ],
      "text/plain": [
       "\u001b[1m Optimizer params: \u001b[0m\u001b[38;5;34m2\u001b[0m (12.00 B)\n"
      ]
     },
     "metadata": {},
     "output_type": "display_data"
    }
   ],
   "source": [
    "model=load_model(\"Simple RNN_imdb.h5\")\n",
    "model.summary()"
   ]
  },
  {
   "cell_type": "code",
   "execution_count": 4,
   "metadata": {},
   "outputs": [
    {
     "data": {
      "text/plain": [
       "[array([[ 0.00326419,  0.02447795, -0.04656694, ...,  0.01954306,\n",
       "          0.01876887,  0.02071555],\n",
       "        [-0.0326126 ,  0.00454079,  0.00251859, ...,  0.03189422,\n",
       "          0.02409703, -0.03837883],\n",
       "        [ 0.02430677,  0.03042876, -0.02083185, ..., -0.01791509,\n",
       "         -0.01989077, -0.04955101],\n",
       "        ...,\n",
       "        [ 0.02438585, -0.00250084,  0.04554068, ...,  0.037062  ,\n",
       "         -0.02097112,  0.00705846],\n",
       "        [ 0.03533391,  0.01154741, -0.01700324, ...,  0.04665981,\n",
       "         -0.0218256 ,  0.04393992],\n",
       "        [-0.03161929,  0.04712572, -0.04166982, ..., -0.03553313,\n",
       "         -0.02519068,  0.04084825]], dtype=float32),\n",
       " array([[-0.07702343,  0.0196142 , -0.14144334, ..., -0.11939564,\n",
       "          0.016078  , -0.00729078],\n",
       "        [ 0.04192287, -0.02548691,  0.05679924, ...,  0.0123694 ,\n",
       "         -0.070239  ,  0.1265705 ],\n",
       "        [-0.15741722,  0.01751007,  0.03109835, ..., -0.13938488,\n",
       "          0.0420168 ,  0.01202892],\n",
       "        ...,\n",
       "        [ 0.05513225,  0.06653885,  0.06234916, ...,  0.1086204 ,\n",
       "          0.02914072,  0.03174882],\n",
       "        [-0.02560709, -0.10359934,  0.03150737, ..., -0.06202044,\n",
       "          0.0343121 , -0.09283336],\n",
       "        [-0.1222637 , -0.00342348,  0.07724595, ...,  0.11254422,\n",
       "         -0.07452284,  0.09235614]], dtype=float32),\n",
       " array([[-2.05220040e-02,  1.68592995e-03, -7.00374097e-02, ...,\n",
       "         -1.04536846e-01, -7.84520730e-02,  3.20637226e-02],\n",
       "        [ 1.21981800e-01, -3.09752405e-01,  7.45718777e-02, ...,\n",
       "          1.94134302e-02,  1.16313018e-01,  1.33329816e-03],\n",
       "        [ 7.81043246e-03,  8.40616301e-02,  1.07671618e-01, ...,\n",
       "         -1.26989186e-01,  9.92111163e-05,  5.60126975e-02],\n",
       "        ...,\n",
       "        [-1.88096091e-02,  1.69064566e-01, -9.82686207e-02, ...,\n",
       "         -7.65274791e-03, -1.79777422e-03, -8.98147672e-02],\n",
       "        [-1.19292796e-01, -4.21940908e-02,  4.53800894e-02, ...,\n",
       "          4.78936024e-02, -1.17364138e-01,  7.81496316e-02],\n",
       "        [ 1.32961839e-01,  2.28186414e-01, -9.05765146e-02, ...,\n",
       "         -1.09273950e-02,  9.67943519e-02,  4.53477167e-02]], dtype=float32),\n",
       " array([-1.96684757e-03, -6.12145476e-03, -4.79488540e-03,  3.33643076e-03,\n",
       "         3.75913200e-03,  6.68985350e-03,  4.01607575e-03, -2.65747588e-03,\n",
       "        -5.16664190e-03, -5.62281208e-03, -1.05287367e-02, -7.33315479e-03,\n",
       "        -3.52521869e-03, -4.61184932e-03, -5.60640171e-03,  9.57236812e-03,\n",
       "        -7.82855693e-03, -1.33659905e-02, -1.53854757e-03,  2.44982191e-03,\n",
       "        -5.43414988e-03,  5.48588065e-03,  1.78538763e-03, -1.17689921e-02,\n",
       "         6.38052588e-03,  2.68588774e-03, -2.46700412e-03, -1.72903377e-03,\n",
       "         1.87537842e-03, -6.08772389e-04, -8.19458719e-03, -4.29568905e-03,\n",
       "        -1.32807565e-03,  1.29154266e-03,  1.26919476e-02,  5.11750288e-04,\n",
       "         7.16140587e-03,  8.47802497e-03,  1.95503561e-03, -1.18338568e-02,\n",
       "         1.06467411e-03, -4.24194150e-03,  3.97102674e-03,  2.50897883e-03,\n",
       "         6.39039045e-03, -3.70609132e-03, -4.30720439e-03, -2.10978277e-03,\n",
       "        -1.62733963e-03, -2.23414949e-03, -8.43126699e-03,  9.39472392e-03,\n",
       "         4.86830994e-03,  2.29740195e-04, -3.20650474e-03, -3.75509891e-03,\n",
       "        -6.16182201e-03,  8.19946406e-04,  7.82352779e-03,  7.44640781e-03,\n",
       "         7.30358006e-04, -4.39023087e-03, -1.14544283e-03, -6.43353502e-04,\n",
       "        -8.31759535e-03, -3.13246320e-03,  6.37322199e-04,  3.93420312e-04,\n",
       "         3.72284418e-03, -1.26241794e-05,  7.81470072e-03, -6.80803932e-05,\n",
       "        -1.20090712e-02,  1.13018043e-02, -7.12021859e-03, -6.66086748e-03,\n",
       "        -9.73030052e-04, -2.53612595e-03, -2.24826229e-03,  4.36972408e-03,\n",
       "        -3.09378817e-03,  7.77148176e-03,  2.51436420e-03,  3.10021150e-03,\n",
       "         6.91193715e-03,  3.50554255e-05,  4.54457942e-03, -2.72578793e-03,\n",
       "        -3.81275010e-03, -3.58442403e-03,  8.17368645e-03,  5.88898035e-03,\n",
       "         3.61304753e-03,  5.45158144e-03, -1.33641167e-02, -1.29415849e-02,\n",
       "        -3.41577013e-03, -7.76930805e-03, -1.47940230e-03, -3.05558112e-03,\n",
       "        -8.09670333e-03,  3.26212030e-03,  6.84571452e-03, -2.79677683e-03,\n",
       "         1.07543133e-02, -6.35251170e-03, -1.02795726e-02, -1.62420108e-03,\n",
       "        -3.51056061e-03,  5.24883252e-03,  5.54764457e-03, -7.48979487e-03,\n",
       "        -3.08071938e-03,  5.54605247e-03, -2.43903417e-03, -2.83833151e-03,\n",
       "        -6.94453716e-03, -8.05769302e-03,  1.64966704e-03, -9.16872360e-03,\n",
       "        -1.02798557e-02, -6.09895214e-03,  5.50020952e-03,  4.37582005e-03,\n",
       "        -9.85943154e-03, -3.95369920e-04,  6.64294837e-03, -3.57205770e-03],\n",
       "       dtype=float32),\n",
       " array([[ 0.15042323],\n",
       "        [-0.03739611],\n",
       "        [ 0.11140679],\n",
       "        [ 0.1895445 ],\n",
       "        [ 0.08094399],\n",
       "        [-0.15753537],\n",
       "        [-0.12977082],\n",
       "        [-0.08235765],\n",
       "        [ 0.20858498],\n",
       "        [ 0.0989413 ],\n",
       "        [ 0.1443777 ],\n",
       "        [ 0.2021422 ],\n",
       "        [ 0.17693536],\n",
       "        [ 0.14771831],\n",
       "        [ 0.1959215 ],\n",
       "        [-0.07486321],\n",
       "        [ 0.04139669],\n",
       "        [ 0.10072928],\n",
       "        [-0.02110366],\n",
       "        [-0.07806572],\n",
       "        [ 0.07559428],\n",
       "        [-0.08329668],\n",
       "        [-0.02676291],\n",
       "        [ 0.18893614],\n",
       "        [-0.14754654],\n",
       "        [-0.16918704],\n",
       "        [ 0.03103011],\n",
       "        [ 0.06531791],\n",
       "        [ 0.10440421],\n",
       "        [-0.14139631],\n",
       "        [ 0.06374267],\n",
       "        [ 0.04314764],\n",
       "        [-0.08111186],\n",
       "        [-0.12678975],\n",
       "        [ 0.03751047],\n",
       "        [-0.19945762],\n",
       "        [-0.1968429 ],\n",
       "        [-0.04058547],\n",
       "        [-0.1640611 ],\n",
       "        [ 0.16482157],\n",
       "        [-0.02183483],\n",
       "        [ 0.0780485 ],\n",
       "        [-0.18716648],\n",
       "        [-0.1923181 ],\n",
       "        [ 0.03139241],\n",
       "        [-0.1910991 ],\n",
       "        [ 0.08041871],\n",
       "        [ 0.13108034],\n",
       "        [ 0.06146251],\n",
       "        [ 0.1363076 ],\n",
       "        [ 0.06340742],\n",
       "        [-0.05970411],\n",
       "        [-0.07687561],\n",
       "        [ 0.15385865],\n",
       "        [-0.05064288],\n",
       "        [ 0.12776363],\n",
       "        [ 0.20457295],\n",
       "        [-0.08224037],\n",
       "        [-0.19455138],\n",
       "        [-0.11476997],\n",
       "        [ 0.10213166],\n",
       "        [ 0.20450734],\n",
       "        [ 0.09824616],\n",
       "        [-0.09670199],\n",
       "        [ 0.17710114],\n",
       "        [-0.1498538 ],\n",
       "        [-0.16733862],\n",
       "        [-0.06437171],\n",
       "        [-0.12288352],\n",
       "        [-0.10014172],\n",
       "        [-0.21267915],\n",
       "        [ 0.08480127],\n",
       "        [ 0.02558577],\n",
       "        [-0.03145713],\n",
       "        [ 0.12250829],\n",
       "        [ 0.03415411],\n",
       "        [-0.10129526],\n",
       "        [-0.06956997],\n",
       "        [ 0.10653001],\n",
       "        [-0.14043102],\n",
       "        [-0.19311313],\n",
       "        [-0.05541572],\n",
       "        [-0.21103856],\n",
       "        [-0.02558186],\n",
       "        [-0.2188903 ],\n",
       "        [ 0.0699415 ],\n",
       "        [-0.05463945],\n",
       "        [ 0.12615809],\n",
       "        [ 0.10275842],\n",
       "        [ 0.09255522],\n",
       "        [-0.21305124],\n",
       "        [-0.06049232],\n",
       "        [ 0.08331069],\n",
       "        [ 0.15725857],\n",
       "        [-0.02914181],\n",
       "        [ 0.165607  ],\n",
       "        [ 0.17211293],\n",
       "        [ 0.13800572],\n",
       "        [ 0.20211382],\n",
       "        [-0.11127289],\n",
       "        [ 0.05004217],\n",
       "        [-0.1583779 ],\n",
       "        [-0.15421289],\n",
       "        [ 0.20109996],\n",
       "        [-0.13744138],\n",
       "        [ 0.15602635],\n",
       "        [ 0.06452869],\n",
       "        [ 0.1316244 ],\n",
       "        [-0.10417525],\n",
       "        [-0.19061321],\n",
       "        [-0.0973905 ],\n",
       "        [ 0.04286732],\n",
       "        [ 0.10215   ],\n",
       "        [ 0.05433509],\n",
       "        [ 0.09266127],\n",
       "        [ 0.11217202],\n",
       "        [-0.12826064],\n",
       "        [ 0.10129759],\n",
       "        [-0.04850941],\n",
       "        [ 0.18567722],\n",
       "        [-0.14912581],\n",
       "        [ 0.13801087],\n",
       "        [-0.08422054],\n",
       "        [-0.16495535],\n",
       "        [ 0.1355142 ],\n",
       "        [-0.12409247],\n",
       "        [ 0.01491108],\n",
       "        [ 0.09515322]], dtype=float32),\n",
       " array([-0.00764881], dtype=float32)]"
      ]
     },
     "execution_count": 4,
     "metadata": {},
     "output_type": "execute_result"
    }
   ],
   "source": [
    "model.get_weights()"
   ]
  },
  {
   "cell_type": "code",
   "execution_count": 5,
   "metadata": {},
   "outputs": [],
   "source": [
    "#Function to decode the reviews\n",
    "def decode_review(encoded_review):\n",
    "    return ' '.join([reverse_word_index.get(i-3,'?')for i in encoded_review])\n",
    "\n",
    "#function to process the user input\n",
    "def preprocess_text(text):\n",
    "    words=text.lower().split()\n",
    "    encoded_review=[word_index.get(word,2)+3 for word in words]\n",
    "    padded_review=sequence.pad_sequences([encoded_review],maxlen=500)\n",
    "    return padded_review"
   ]
  },
  {
   "cell_type": "code",
   "execution_count": 6,
   "metadata": {},
   "outputs": [],
   "source": [
    "### prediction function\n",
    "\n",
    "def predict_sentiment(review):\n",
    "    preprocessed_input=preprocess_text(review)\n",
    "    prediction=model.predict(preprocessed_input)\n",
    "    sentiment='Positive' if prediction[0][0]>0.4 else 'Negative'\n",
    "    return sentiment,prediction[0][0]"
   ]
  },
  {
   "cell_type": "code",
   "execution_count": 7,
   "metadata": {},
   "outputs": [
    {
     "name": "stdout",
     "output_type": "stream",
     "text": [
      "\u001b[1m1/1\u001b[0m \u001b[32m━━━━━━━━━━━━━━━━━━━━\u001b[0m\u001b[37m\u001b[0m \u001b[1m0s\u001b[0m 456ms/step\n",
      "Review:This movie was  fantastic! The acting was great and the plot was thrilling.\n",
      "Sentiment:Positive\n",
      "Prediction Score:0.4692213237285614\n"
     ]
    }
   ],
   "source": [
    "#Eample review prediction\n",
    "e_r='This movie was  fantastic! The acting was great and the plot was thrilling.'\n",
    "sentiment,score=predict_sentiment(e_r)\n",
    "print(f'Review:{e_r}')\n",
    "print(f'Sentiment:{sentiment}')\n",
    "print(f'Prediction Score:{score}')"
   ]
  },
  {
   "cell_type": "code",
   "execution_count": null,
   "metadata": {},
   "outputs": [],
   "source": []
  }
 ],
 "metadata": {
  "kernelspec": {
   "display_name": "base",
   "language": "python",
   "name": "python3"
  },
  "language_info": {
   "codemirror_mode": {
    "name": "ipython",
    "version": 3
   },
   "file_extension": ".py",
   "mimetype": "text/x-python",
   "name": "python",
   "nbconvert_exporter": "python",
   "pygments_lexer": "ipython3",
   "version": "3.10.9"
  }
 },
 "nbformat": 4,
 "nbformat_minor": 2
}
